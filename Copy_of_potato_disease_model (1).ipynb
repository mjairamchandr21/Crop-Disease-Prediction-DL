{
  "cells": [
    {
      "cell_type": "code",
      "execution_count": 52,
      "metadata": {
        "id": "EPukD1sMjdM9"
      },
      "outputs": [],
      "source": [
        "import tensorflow as tf\n",
        "import matplotlib.pyplot as plt\n",
        "import pandas as pd\n",
        "import seaborn as sns"
      ]
    },
    {
      "cell_type": "code",
      "execution_count": null,
      "metadata": {
        "id": "YuOsiewwLiwK"
      },
      "outputs": [],
      "source": [
        "BATCH_SIZE = 16\n",
        "IMAGE_SIZE = 256\n",
        "CHANNELS=3\n",
        "EPOCHS=50"
      ]
    },
    {
      "cell_type": "code",
      "execution_count": null,
      "metadata": {
        "colab": {
          "base_uri": "https://localhost:8080/"
        },
        "id": "l0j_GdFnMkrw",
        "outputId": "57e83023-8f97-4153-ab4b-588c34099b26"
      },
      "outputs": [
        {
          "name": "stdout",
          "output_type": "stream",
          "text": [
            "cp: cannot stat 'kaggle.json': No such file or directory\n"
          ]
        }
      ],
      "source": [
        "!mkdir -p ~/.kaggle\n",
        "!cp kaggle.json ~/.kaggle/"
      ]
    },
    {
      "cell_type": "code",
      "execution_count": null,
      "metadata": {
        "colab": {
          "base_uri": "https://localhost:8080/"
        },
        "id": "IDxPHgMSLk2F",
        "outputId": "219037c4-cb63-4dbc-9a65-e2370d197d9c"
      },
      "outputs": [
        {
          "name": "stdout",
          "output_type": "stream",
          "text": [
            "Dataset URL: https://www.kaggle.com/datasets/arjuntejaswi/plant-village\n",
            "License(s): unknown\n",
            "Downloading plant-village.zip to /content\n",
            "100% 327M/329M [00:02<00:00, 177MB/s]\n",
            "100% 329M/329M [00:02<00:00, 163MB/s]\n"
          ]
        }
      ],
      "source": [
        "!kaggle datasets download -d arjuntejaswi/plant-village"
      ]
    },
    {
      "cell_type": "code",
      "execution_count": null,
      "metadata": {
        "id": "k_1zeI00NGD8"
      },
      "outputs": [],
      "source": [
        "import zipfile\n",
        "zip_ref=zipfile.ZipFile('/content/plant-village.zip','r')\n",
        "zip_ref.extractall('/content/')\n",
        "zip_ref.close()"
      ]
    },
    {
      "cell_type": "code",
      "execution_count": null,
      "metadata": {
        "id": "1AWQinZyNt2z"
      },
      "outputs": [],
      "source": [
        "!rm -rf /content/PlantVillage/Pepper__bell___Bacterial_spot"
      ]
    },
    {
      "cell_type": "code",
      "execution_count": null,
      "metadata": {
        "colab": {
          "base_uri": "https://localhost:8080/"
        },
        "id": "kKaTqC-hZCfc",
        "outputId": "38b15e14-8f2c-4b43-fed2-b0d87b38e9e4"
      },
      "outputs": [
        {
          "name": "stdout",
          "output_type": "stream",
          "text": [
            "Deleting folder: Tomato__Target_Spot\n",
            "Deleting folder: Tomato_Bacterial_spot\n",
            "Deleting folder: Pepper__bell___healthy\n",
            "Deleting folder: Tomato_Leaf_Mold\n",
            "Deleting folder: Tomato_Early_blight\n",
            "Deleting folder: Pepper__bell___Bacterial_spot\n",
            "Deleting folder: Tomato_Septoria_leaf_spot\n",
            "Deleting folder: Tomato_healthy\n",
            "Deleting folder: Tomato__Tomato_YellowLeaf__Curl_Virus\n",
            "Deleting folder: Tomato__Tomato_mosaic_virus\n",
            "Deleting folder: Tomato_Late_blight\n",
            "Deleting folder: Tomato_Spider_mites_Two_spotted_spider_mite\n"
          ]
        }
      ],
      "source": [
        "import os\n",
        "import shutil\n",
        "\n",
        "def delete_folders_except(directory, keep_folders):\n",
        "    \"\"\"\n",
        "    Delete all folders in the specified directory except for the ones listed in keep_folders.\n",
        "\n",
        "    Args:\n",
        "    - directory: Path to the directory containing the folders.\n",
        "    - keep_folders: List of folder names to keep.\n",
        "    \"\"\"\n",
        "    for folder in os.listdir(directory):\n",
        "        folder_path = os.path.join(directory, folder)\n",
        "        # Check if it's a directory and not in the keep_folders list\n",
        "        if os.path.isdir(folder_path) and folder not in keep_folders:\n",
        "            print(f\"Deleting folder: {folder}\")\n",
        "            shutil.rmtree(folder_path)\n",
        "\n",
        "# Path to your folder in Colab\n",
        "directory = '/content/PlantVillage'  # Update this with your directory path\n",
        "\n",
        "# List of 3 folders to keep\n",
        "keep_folders = ['Potato___Early_blight', 'Potato___Late_blight', 'Potato___healthy']  # Update with the names of folders you want to keep\n",
        "\n",
        "# Delete all folders except the ones listed\n",
        "delete_folders_except(directory, keep_folders)\n"
      ]
    },
    {
      "cell_type": "code",
      "execution_count": 2,
      "metadata": {
        "colab": {
          "base_uri": "https://localhost:8080/"
        },
        "id": "M52McRThdVDE",
        "outputId": "f40cbb9c-2bcc-4476-cbc6-ccc625161294"
      },
      "outputs": [
        {
          "name": "stdout",
          "output_type": "stream",
          "text": [
            "Data successfully split into train and test folders!\n"
          ]
        }
      ],
      "source": [
        "import os\n",
        "import random\n",
        "import shutil\n",
        "from math import floor\n",
        "\n",
        "# Paths to the directories\n",
        "plant_village_dir = '/content/PlantVillage'\n",
        "train_dir = '/content/train'\n",
        "test_dir = '/content/test'\n",
        "\n",
        "# Create directories for train and test if they don't exist\n",
        "os.makedirs(train_dir, exist_ok=True)\n",
        "os.makedirs(test_dir, exist_ok=True)\n",
        "\n",
        "# Function to split the data\n",
        "def split_data(source_dir, train_dir, test_dir, split_ratio=0.8):\n",
        "    # Get the subfolder names (i.e., the class labels)\n",
        "    class_names = os.listdir(source_dir)\n",
        "\n",
        "    for class_name in class_names:\n",
        "        class_source_dir = os.path.join(source_dir, class_name)\n",
        "        class_train_dir = os.path.join(train_dir, class_name)\n",
        "        class_test_dir = os.path.join(test_dir, class_name)\n",
        "\n",
        "        # Create class directories in train and test folders\n",
        "        os.makedirs(class_train_dir, exist_ok=True)\n",
        "        os.makedirs(class_test_dir, exist_ok=True)\n",
        "\n",
        "        # Get list of all files (images) in the class directory\n",
        "        all_files = os.listdir(class_source_dir)\n",
        "        total_files = len(all_files)\n",
        "        random.shuffle(all_files)  # Shuffle the files to randomize selection\n",
        "\n",
        "        # Calculate the number of files for training (80%) and testing (20%)\n",
        "        train_size = floor(total_files * split_ratio)\n",
        "        train_files = all_files[:train_size]\n",
        "        test_files = all_files[train_size:]\n",
        "\n",
        "        # Copy training files\n",
        "        for file_name in train_files:\n",
        "            src_file = os.path.join(class_source_dir, file_name)\n",
        "            dest_file = os.path.join(class_train_dir, file_name)\n",
        "            shutil.copy(src_file, dest_file)\n",
        "\n",
        "        # Copy testing files\n",
        "        for file_name in test_files:\n",
        "            src_file = os.path.join(class_source_dir, file_name)\n",
        "            dest_file = os.path.join(class_test_dir, file_name)\n",
        "            shutil.copy(src_file, dest_file)\n",
        "\n",
        "# Split the data with an 80-20 ratio\n",
        "split_data(plant_village_dir, train_dir, test_dir, split_ratio=0.8)\n",
        "\n",
        "print(\"Data successfully split into train and test folders!\")\n"
      ]
    },
    {
      "cell_type": "code",
      "execution_count": 3,
      "metadata": {
        "colab": {
          "base_uri": "https://localhost:8080/"
        },
        "id": "U1Ask54ed8vo",
        "outputId": "80cea8bb-5ec8-4344-fa09-8d09f49baa33"
      },
      "outputs": [
        {
          "name": "stdout",
          "output_type": "stream",
          "text": [
            "Found 1721 files belonging to 3 classes.\n"
          ]
        }
      ],
      "source": [
        "training_set = tf.keras.utils.image_dataset_from_directory(\n",
        "    'train',\n",
        "    labels=\"inferred\",\n",
        "    label_mode=\"categorical\",\n",
        "    class_names=None,\n",
        "    color_mode=\"rgb\",\n",
        "    batch_size=32,\n",
        "    image_size=(128, 128),\n",
        "    shuffle=True,\n",
        "    seed=None,\n",
        "    validation_split=None,\n",
        "    subset=None,\n",
        "    interpolation=\"bilinear\",\n",
        "    follow_links=False,\n",
        "    crop_to_aspect_ratio=False\n",
        ")"
      ]
    },
    {
      "cell_type": "code",
      "execution_count": 4,
      "metadata": {
        "colab": {
          "base_uri": "https://localhost:8080/"
        },
        "id": "vKWW9-A-eK0b",
        "outputId": "baeab014-0b3c-4fc5-b056-35e756e5c6cd"
      },
      "outputs": [
        {
          "name": "stdout",
          "output_type": "stream",
          "text": [
            "Found 431 files belonging to 3 classes.\n"
          ]
        }
      ],
      "source": [
        "validation_set = tf.keras.utils.image_dataset_from_directory(\n",
        "    'valid',\n",
        "    labels=\"inferred\",\n",
        "    label_mode=\"categorical\",\n",
        "    class_names=None,\n",
        "    color_mode=\"rgb\",\n",
        "    batch_size=32,\n",
        "    image_size=(128, 128),\n",
        "    shuffle=True,\n",
        "    seed=None,\n",
        "    validation_split=None,\n",
        "    subset=None,\n",
        "    interpolation=\"bilinear\",\n",
        "    follow_links=False,\n",
        "    crop_to_aspect_ratio=False\n",
        ")\n"
      ]
    },
    {
      "cell_type": "code",
      "execution_count": 23,
      "metadata": {
        "id": "AMdsaMTHehiL"
      },
      "outputs": [],
      "source": [
        "\n",
        "cnn = tf.keras.models.Sequential()"
      ]
    },
    {
      "cell_type": "code",
      "execution_count": 21,
      "metadata": {
        "colab": {
          "base_uri": "https://localhost:8080/"
        },
        "id": "B-m48qSTgoKu",
        "outputId": "032aff07-a583-4e2d-dfa6-f4d48c227e9b"
      },
      "outputs": [
        {
          "name": "stdout",
          "output_type": "stream",
          "text": [
            "tf.Tensor(\n",
            "[[[[184.   179.   176.  ]\n",
            "   [183.5  178.5  175.5 ]\n",
            "   [184.   179.   176.  ]\n",
            "   ...\n",
            "   [197.75 191.75 193.75]\n",
            "   [195.5  189.5  191.5 ]\n",
            "   [203.75 197.75 199.75]]\n",
            "\n",
            "  [[179.5  174.5  171.5 ]\n",
            "   [180.5  175.5  172.5 ]\n",
            "   [183.25 178.25 175.25]\n",
            "   ...\n",
            "   [196.   190.   192.  ]\n",
            "   [197.5  191.5  193.5 ]\n",
            "   [198.75 192.75 194.75]]\n",
            "\n",
            "  [[183.25 178.25 175.25]\n",
            "   [173.5  168.5  165.5 ]\n",
            "   [172.25 167.25 164.25]\n",
            "   ...\n",
            "   [194.5  188.5  190.5 ]\n",
            "   [199.25 193.25 195.25]\n",
            "   [200.5  194.5  196.5 ]]\n",
            "\n",
            "  ...\n",
            "\n",
            "  [[143.   135.   133.  ]\n",
            "   [143.   135.   133.  ]\n",
            "   [148.   140.   138.  ]\n",
            "   ...\n",
            "   [145.75 139.75 141.75]\n",
            "   [149.   143.   145.  ]\n",
            "   [144.75 138.75 140.75]]\n",
            "\n",
            "  [[154.5  146.5  144.5 ]\n",
            "   [138.5  130.5  128.5 ]\n",
            "   [139.   131.   129.  ]\n",
            "   ...\n",
            "   [149.   143.   145.  ]\n",
            "   [153.25 147.25 149.25]\n",
            "   [156.5  150.5  152.5 ]]\n",
            "\n",
            "  [[137.25 129.25 127.25]\n",
            "   [138.75 130.75 128.75]\n",
            "   [145.5  137.5  135.5 ]\n",
            "   ...\n",
            "   [160.5  154.5  156.5 ]\n",
            "   [157.   151.   153.  ]\n",
            "   [152.25 146.25 148.25]]]\n",
            "\n",
            "\n",
            " [[[166.   164.   177.  ]\n",
            "   [177.   175.   188.  ]\n",
            "   [170.25 168.25 181.25]\n",
            "   ...\n",
            "   [188.75 186.75 199.75]\n",
            "   [195.5  193.5  206.5 ]\n",
            "   [195.5  193.5  207.5 ]]\n",
            "\n",
            "  [[164.75 162.75 175.75]\n",
            "   [170.5  168.5  181.5 ]\n",
            "   [161.   159.   172.  ]\n",
            "   ...\n",
            "   [191.5  189.5  202.5 ]\n",
            "   [202.75 200.75 213.75]\n",
            "   [188.75 186.75 200.75]]\n",
            "\n",
            "  [[172.25 170.25 183.25]\n",
            "   [168.   166.   179.  ]\n",
            "   [171.25 169.25 182.25]\n",
            "   ...\n",
            "   [196.   194.   207.  ]\n",
            "   [193.   191.   204.  ]\n",
            "   [184.   182.   196.  ]]\n",
            "\n",
            "  ...\n",
            "\n",
            "  [[129.5  127.5  138.5 ]\n",
            "   [141.25 139.25 150.25]\n",
            "   [136.75 134.75 145.75]\n",
            "   ...\n",
            "   [144.75 142.75 153.75]\n",
            "   [144.5  142.5  153.5 ]\n",
            "   [147.   145.   156.  ]]\n",
            "\n",
            "  [[148.25 148.25 158.25]\n",
            "   [124.   124.   134.  ]\n",
            "   [125.   125.   135.  ]\n",
            "   ...\n",
            "   [148.5  146.5  157.5 ]\n",
            "   [158.   156.   167.  ]\n",
            "   [156.75 154.75 165.75]]\n",
            "\n",
            "  [[147.75 147.75 157.75]\n",
            "   [119.5  119.5  129.5 ]\n",
            "   [131.5  131.5  141.5 ]\n",
            "   ...\n",
            "   [151.25 149.25 160.25]\n",
            "   [155.75 153.75 164.75]\n",
            "   [156.25 154.25 165.25]]]\n",
            "\n",
            "\n",
            " [[[193.   192.   200.  ]\n",
            "   [196.5  195.5  203.5 ]\n",
            "   [195.5  194.5  202.5 ]\n",
            "   ...\n",
            "   [180.25 178.25 191.25]\n",
            "   [185.5  183.5  196.5 ]\n",
            "   [183.75 181.75 194.75]]\n",
            "\n",
            "  [[197.75 196.75 204.75]\n",
            "   [197.5  196.5  204.5 ]\n",
            "   [204.   203.   211.  ]\n",
            "   ...\n",
            "   [178.   176.   189.  ]\n",
            "   [176.   174.   187.  ]\n",
            "   [177.   175.   188.  ]]\n",
            "\n",
            "  [[196.   195.   203.  ]\n",
            "   [191.25 190.25 198.25]\n",
            "   [199.5  198.5  206.5 ]\n",
            "   ...\n",
            "   [178.5  176.5  189.5 ]\n",
            "   [171.75 169.75 182.75]\n",
            "   [181.   179.   192.  ]]\n",
            "\n",
            "  ...\n",
            "\n",
            "  [[165.   162.   169.  ]\n",
            "   [176.   173.   180.  ]\n",
            "   [177.25 174.25 181.25]\n",
            "   ...\n",
            "   [155.25 152.25 163.25]\n",
            "   [151.25 148.25 159.25]\n",
            "   [144.5  141.5  152.5 ]]\n",
            "\n",
            "  [[176.   173.   180.  ]\n",
            "   [180.   177.   184.  ]\n",
            "   [173.   170.   177.  ]\n",
            "   ...\n",
            "   [164.5  161.5  172.5 ]\n",
            "   [148.25 145.25 156.25]\n",
            "   [147.   144.   155.  ]]\n",
            "\n",
            "  [[164.25 161.25 168.25]\n",
            "   [154.   151.   158.  ]\n",
            "   [173.25 170.25 177.25]\n",
            "   ...\n",
            "   [150.   147.   158.  ]\n",
            "   [154.25 151.25 162.25]\n",
            "   [147.25 144.25 155.25]]]\n",
            "\n",
            "\n",
            " ...\n",
            "\n",
            "\n",
            " [[[160.   140.   142.  ]\n",
            "   [147.   127.   129.  ]\n",
            "   [147.25 127.25 129.25]\n",
            "   ...\n",
            "   [139.25 119.25 128.25]\n",
            "   [157.5  137.5  146.5 ]\n",
            "   [163.5  143.5  152.5 ]]\n",
            "\n",
            "  [[153.25 133.25 135.25]\n",
            "   [151.   131.   133.  ]\n",
            "   [159.75 139.75 141.75]\n",
            "   ...\n",
            "   [165.75 145.75 154.75]\n",
            "   [181.   161.   170.  ]\n",
            "   [154.5  134.5  143.5 ]]\n",
            "\n",
            "  [[160.25 140.25 142.25]\n",
            "   [164.   144.   146.  ]\n",
            "   [150.75 130.75 132.75]\n",
            "   ...\n",
            "   [153.75 133.75 142.75]\n",
            "   [171.75 151.75 160.75]\n",
            "   [164.25 144.25 153.25]]\n",
            "\n",
            "  ...\n",
            "\n",
            "  [[174.5  150.5  150.5 ]\n",
            "   [169.   145.   145.  ]\n",
            "   [166.   142.   142.  ]\n",
            "   ...\n",
            "   [177.5  156.5  163.5 ]\n",
            "   [163.5  142.5  149.5 ]\n",
            "   [172.5  151.5  158.5 ]]\n",
            "\n",
            "  [[184.25 160.25 160.25]\n",
            "   [176.5  152.5  152.5 ]\n",
            "   [171.75 147.75 147.75]\n",
            "   ...\n",
            "   [191.   170.   177.  ]\n",
            "   [164.5  143.5  150.5 ]\n",
            "   [168.25 147.25 154.25]]\n",
            "\n",
            "  [[174.   150.   150.  ]\n",
            "   [173.   149.   149.  ]\n",
            "   [168.   144.   144.  ]\n",
            "   ...\n",
            "   [168.75 147.75 154.75]\n",
            "   [168.75 147.75 154.75]\n",
            "   [163.5  142.5  149.5 ]]]\n",
            "\n",
            "\n",
            " [[[199.25 194.25 191.25]\n",
            "   [195.   190.   187.  ]\n",
            "   [193.25 188.25 185.25]\n",
            "   ...\n",
            "   [202.   198.   199.  ]\n",
            "   [197.75 193.75 194.75]\n",
            "   [196.5  192.5  193.5 ]]\n",
            "\n",
            "  [[196.25 191.25 188.25]\n",
            "   [191.25 186.25 183.25]\n",
            "   [192.   187.   184.  ]\n",
            "   ...\n",
            "   [194.75 190.75 191.75]\n",
            "   [199.25 195.25 196.25]\n",
            "   [196.   192.   193.  ]]\n",
            "\n",
            "  [[191.25 186.25 183.25]\n",
            "   [192.25 187.25 184.25]\n",
            "   [191.25 186.25 183.25]\n",
            "   ...\n",
            "   [195.75 191.75 192.75]\n",
            "   [201.75 197.75 198.75]\n",
            "   [199.75 195.75 196.75]]\n",
            "\n",
            "  ...\n",
            "\n",
            "  [[144.75 135.75 138.75]\n",
            "   [138.25 129.25 132.25]\n",
            "   [135.   126.   129.  ]\n",
            "   ...\n",
            "   [147.5  141.5  145.5 ]\n",
            "   [144.   138.   142.  ]\n",
            "   [151.25 145.25 149.25]]\n",
            "\n",
            "  [[136.75 127.75 130.75]\n",
            "   [132.   123.   126.  ]\n",
            "   [136.5  127.5  130.5 ]\n",
            "   ...\n",
            "   [148.5  142.5  146.5 ]\n",
            "   [147.5  141.5  145.5 ]\n",
            "   [149.   143.   147.  ]]\n",
            "\n",
            "  [[132.25 123.25 126.25]\n",
            "   [128.   119.   122.  ]\n",
            "   [130.25 121.25 124.25]\n",
            "   ...\n",
            "   [143.   137.   141.  ]\n",
            "   [147.75 141.75 145.75]\n",
            "   [158.75 152.75 156.75]]]\n",
            "\n",
            "\n",
            " [[[176.   178.   191.  ]\n",
            "   [176.25 178.25 191.25]\n",
            "   [178.   180.   193.  ]\n",
            "   ...\n",
            "   [193.75 195.75 208.75]\n",
            "   [194.25 196.25 209.25]\n",
            "   [194.25 196.25 209.25]]\n",
            "\n",
            "  [[176.75 178.75 191.75]\n",
            "   [180.5  182.5  195.5 ]\n",
            "   [176.   178.   191.  ]\n",
            "   ...\n",
            "   [187.75 189.75 202.75]\n",
            "   [194.25 196.25 209.25]\n",
            "   [191.75 193.75 206.75]]\n",
            "\n",
            "  [[178.25 180.25 193.25]\n",
            "   [174.75 176.75 189.75]\n",
            "   [170.75 172.75 185.75]\n",
            "   ...\n",
            "   [186.75 188.75 201.75]\n",
            "   [193.75 195.75 208.75]\n",
            "   [194.   196.   209.  ]]\n",
            "\n",
            "  ...\n",
            "\n",
            "  [[149.25 145.25 159.25]\n",
            "   [131.75 127.75 141.75]\n",
            "   [139.   135.   149.  ]\n",
            "   ...\n",
            "   [128.5  126.5  140.5 ]\n",
            "   [134.75 132.75 146.75]\n",
            "   [129.   127.   141.  ]]\n",
            "\n",
            "  [[121.25 117.25 131.25]\n",
            "   [139.5  135.5  149.5 ]\n",
            "   [138.75 134.75 148.75]\n",
            "   ...\n",
            "   [128.   126.   140.  ]\n",
            "   [112.75 110.75 124.75]\n",
            "   [140.75 138.75 152.75]]\n",
            "\n",
            "  [[126.   122.   136.  ]\n",
            "   [120.   116.   130.  ]\n",
            "   [139.5  135.5  149.5 ]\n",
            "   ...\n",
            "   [143.5  141.5  155.5 ]\n",
            "   [118.25 116.25 130.25]\n",
            "   [137.   135.   149.  ]]]], shape=(32, 128, 128, 3), dtype=float32) (32, 128, 128, 3)\n",
            "tf.Tensor(\n",
            "[[1. 0. 0.]\n",
            " [1. 0. 0.]\n",
            " [1. 0. 0.]\n",
            " [0. 1. 0.]\n",
            " [0. 1. 0.]\n",
            " [0. 1. 0.]\n",
            " [1. 0. 0.]\n",
            " [0. 1. 0.]\n",
            " [0. 1. 0.]\n",
            " [0. 1. 0.]\n",
            " [0. 1. 0.]\n",
            " [0. 1. 0.]\n",
            " [1. 0. 0.]\n",
            " [0. 1. 0.]\n",
            " [1. 0. 0.]\n",
            " [1. 0. 0.]\n",
            " [0. 1. 0.]\n",
            " [1. 0. 0.]\n",
            " [0. 1. 0.]\n",
            " [1. 0. 0.]\n",
            " [1. 0. 0.]\n",
            " [1. 0. 0.]\n",
            " [0. 1. 0.]\n",
            " [0. 1. 0.]\n",
            " [1. 0. 0.]\n",
            " [0. 1. 0.]\n",
            " [1. 0. 0.]\n",
            " [0. 1. 0.]\n",
            " [0. 1. 0.]\n",
            " [0. 0. 1.]\n",
            " [1. 0. 0.]\n",
            " [1. 0. 0.]], shape=(32, 3), dtype=float32) (32, 3)\n"
          ]
        }
      ],
      "source": [
        "for x,y in training_set:\n",
        "  print(x,x.shape)\n",
        "  print(y,y.shape)\n",
        "  break"
      ]
    },
    {
      "cell_type": "markdown",
      "metadata": {
        "id": "71YoJLqAepU0"
      },
      "source": [
        "**Building convolutional layer**"
      ]
    },
    {
      "cell_type": "code",
      "execution_count": 24,
      "metadata": {
        "id": "1mCoO212ekJo"
      },
      "outputs": [],
      "source": [
        "\n",
        "cnn.add(tf.keras.layers.Conv2D(filters=32,kernel_size=3,padding='same',activation='relu',input_shape=[128,128,3]))\n",
        "cnn.add(tf.keras.layers.Conv2D(filters=32,kernel_size=3,activation='relu'))\n",
        "cnn.add(tf.keras.layers.MaxPool2D(pool_size=2,strides=2))"
      ]
    },
    {
      "cell_type": "code",
      "execution_count": 25,
      "metadata": {
        "id": "XGeCaIPnekGJ"
      },
      "outputs": [],
      "source": [
        "cnn.add(tf.keras.layers.Conv2D(filters=64,kernel_size=3,padding='same',activation='relu'))\n",
        "cnn.add(tf.keras.layers.Conv2D(filters=64,kernel_size=3,activation='relu'))\n",
        "cnn.add(tf.keras.layers.MaxPool2D(pool_size=2,strides=2))"
      ]
    },
    {
      "cell_type": "code",
      "execution_count": 26,
      "metadata": {
        "id": "iENxPwagekEC"
      },
      "outputs": [],
      "source": [
        "cnn.add(tf.keras.layers.Conv2D(filters=128,kernel_size=3,padding='same',activation='relu'))\n",
        "cnn.add(tf.keras.layers.Conv2D(filters=128,kernel_size=3,activation='relu'))\n",
        "cnn.add(tf.keras.layers.MaxPool2D(pool_size=2,strides=2))"
      ]
    },
    {
      "cell_type": "code",
      "execution_count": 27,
      "metadata": {
        "id": "bZBiNFEUekCG"
      },
      "outputs": [],
      "source": [
        "\n",
        "cnn.add(tf.keras.layers.Conv2D(filters=256,kernel_size=3,padding='same',activation='relu'))\n",
        "cnn.add(tf.keras.layers.Conv2D(filters=256,kernel_size=3,activation='relu'))\n",
        "cnn.add(tf.keras.layers.MaxPool2D(pool_size=2,strides=2))"
      ]
    },
    {
      "cell_type": "code",
      "execution_count": 28,
      "metadata": {
        "id": "1vR-nFj5ej_n"
      },
      "outputs": [],
      "source": [
        "cnn.add(tf.keras.layers.Conv2D(filters=512,kernel_size=3,padding='same',activation='relu'))\n",
        "cnn.add(tf.keras.layers.Conv2D(filters=512,kernel_size=3,activation='relu'))\n",
        "cnn.add(tf.keras.layers.MaxPool2D(pool_size=2,strides=2))"
      ]
    },
    {
      "cell_type": "code",
      "execution_count": 29,
      "metadata": {
        "id": "8N9gZXZUej9q"
      },
      "outputs": [],
      "source": [
        "cnn.add(tf.keras.layers.Dropout(0.25))"
      ]
    },
    {
      "cell_type": "code",
      "execution_count": 30,
      "metadata": {
        "id": "bGb31afmej7W"
      },
      "outputs": [],
      "source": [
        "cnn.add(tf.keras.layers.Flatten())"
      ]
    },
    {
      "cell_type": "code",
      "execution_count": 31,
      "metadata": {
        "id": "2lHEdCmZe3Bc"
      },
      "outputs": [],
      "source": [
        "cnn.add(tf.keras.layers.Dense(units=1500,activation='relu'))"
      ]
    },
    {
      "cell_type": "code",
      "execution_count": 32,
      "metadata": {
        "id": "A9Z8tQ17e2-D"
      },
      "outputs": [],
      "source": [
        "\n",
        "cnn.add(tf.keras.layers.Dropout(0.4)) #To avoid overfitting"
      ]
    },
    {
      "cell_type": "code",
      "execution_count": 33,
      "metadata": {
        "id": "G5jUkQj8e28F"
      },
      "outputs": [],
      "source": [
        "\n",
        "#Output Layer\n",
        "cnn.add(tf.keras.layers.Dense(units=3,activation='softmax'))"
      ]
    },
    {
      "cell_type": "markdown",
      "metadata": {
        "id": "eRJ9Tt2Re_1K"
      },
      "source": [
        "**Compiling and training**\n"
      ]
    },
    {
      "cell_type": "code",
      "execution_count": 34,
      "metadata": {
        "id": "uclXeCLne259"
      },
      "outputs": [],
      "source": [
        "cnn.compile(optimizer=tf.keras.optimizers.legacy.Adam(\n",
        "    learning_rate=0.0001),loss='categorical_crossentropy',metrics=['accuracy'])"
      ]
    },
    {
      "cell_type": "code",
      "execution_count": 35,
      "metadata": {
        "colab": {
          "base_uri": "https://localhost:8080/"
        },
        "id": "OwI7-QL0e230",
        "outputId": "9f8cada1-ddaa-44dd-9bb9-2518f9d8ca95"
      },
      "outputs": [
        {
          "name": "stdout",
          "output_type": "stream",
          "text": [
            "Model: \"sequential_1\"\n",
            "_________________________________________________________________\n",
            " Layer (type)                Output Shape              Param #   \n",
            "=================================================================\n",
            " conv2d_11 (Conv2D)          (None, 128, 128, 32)      896       \n",
            "                                                                 \n",
            " conv2d_12 (Conv2D)          (None, 126, 126, 32)      9248      \n",
            "                                                                 \n",
            " max_pooling2d_5 (MaxPoolin  (None, 63, 63, 32)        0         \n",
            " g2D)                                                            \n",
            "                                                                 \n",
            " conv2d_13 (Conv2D)          (None, 63, 63, 64)        18496     \n",
            "                                                                 \n",
            " conv2d_14 (Conv2D)          (None, 61, 61, 64)        36928     \n",
            "                                                                 \n",
            " max_pooling2d_6 (MaxPoolin  (None, 30, 30, 64)        0         \n",
            " g2D)                                                            \n",
            "                                                                 \n",
            " conv2d_15 (Conv2D)          (None, 30, 30, 128)       73856     \n",
            "                                                                 \n",
            " conv2d_16 (Conv2D)          (None, 28, 28, 128)       147584    \n",
            "                                                                 \n",
            " max_pooling2d_7 (MaxPoolin  (None, 14, 14, 128)       0         \n",
            " g2D)                                                            \n",
            "                                                                 \n",
            " conv2d_17 (Conv2D)          (None, 14, 14, 256)       295168    \n",
            "                                                                 \n",
            " conv2d_18 (Conv2D)          (None, 12, 12, 256)       590080    \n",
            "                                                                 \n",
            " max_pooling2d_8 (MaxPoolin  (None, 6, 6, 256)         0         \n",
            " g2D)                                                            \n",
            "                                                                 \n",
            " conv2d_19 (Conv2D)          (None, 6, 6, 512)         1180160   \n",
            "                                                                 \n",
            " conv2d_20 (Conv2D)          (None, 4, 4, 512)         2359808   \n",
            "                                                                 \n",
            " max_pooling2d_9 (MaxPoolin  (None, 2, 2, 512)         0         \n",
            " g2D)                                                            \n",
            "                                                                 \n",
            " dropout_2 (Dropout)         (None, 2, 2, 512)         0         \n",
            "                                                                 \n",
            " flatten_1 (Flatten)         (None, 2048)              0         \n",
            "                                                                 \n",
            " dense_2 (Dense)             (None, 1500)              3073500   \n",
            "                                                                 \n",
            " dropout_3 (Dropout)         (None, 1500)              0         \n",
            "                                                                 \n",
            " dense_3 (Dense)             (None, 3)                 4503      \n",
            "                                                                 \n",
            "=================================================================\n",
            "Total params: 7790227 (29.72 MB)\n",
            "Trainable params: 7790227 (29.72 MB)\n",
            "Non-trainable params: 0 (0.00 Byte)\n",
            "_________________________________________________________________\n"
          ]
        }
      ],
      "source": [
        "cnn.summary()"
      ]
    },
    {
      "cell_type": "code",
      "execution_count": 36,
      "metadata": {
        "colab": {
          "base_uri": "https://localhost:8080/"
        },
        "id": "qsbW9JR4e21i",
        "outputId": "f3963315-08b1-4960-bbb8-872b7c21045e"
      },
      "outputs": [
        {
          "name": "stdout",
          "output_type": "stream",
          "text": [
            "Epoch 1/10\n",
            "54/54 [==============================] - 24s 421ms/step - loss: 0.9108 - accuracy: 0.5276 - val_loss: 0.7219 - val_accuracy: 0.7285\n",
            "Epoch 2/10\n",
            "54/54 [==============================] - 22s 410ms/step - loss: 0.5806 - accuracy: 0.7653 - val_loss: 0.5150 - val_accuracy: 0.7564\n",
            "Epoch 3/10\n",
            "54/54 [==============================] - 22s 405ms/step - loss: 0.3932 - accuracy: 0.8379 - val_loss: 0.2944 - val_accuracy: 0.8585\n",
            "Epoch 4/10\n",
            "54/54 [==============================] - 22s 404ms/step - loss: 0.2768 - accuracy: 0.8908 - val_loss: 0.2054 - val_accuracy: 0.9165\n",
            "Epoch 5/10\n",
            "54/54 [==============================] - 22s 407ms/step - loss: 0.1748 - accuracy: 0.9303 - val_loss: 0.2567 - val_accuracy: 0.9002\n",
            "Epoch 6/10\n",
            "54/54 [==============================] - 22s 403ms/step - loss: 0.1584 - accuracy: 0.9436 - val_loss: 0.1223 - val_accuracy: 0.9536\n",
            "Epoch 7/10\n",
            "54/54 [==============================] - 22s 411ms/step - loss: 0.1036 - accuracy: 0.9605 - val_loss: 0.1186 - val_accuracy: 0.9536\n",
            "Epoch 8/10\n",
            "54/54 [==============================] - 22s 407ms/step - loss: 0.0601 - accuracy: 0.9773 - val_loss: 0.0926 - val_accuracy: 0.9652\n",
            "Epoch 9/10\n",
            "54/54 [==============================] - 22s 413ms/step - loss: 0.0843 - accuracy: 0.9686 - val_loss: 0.1034 - val_accuracy: 0.9559\n",
            "Epoch 10/10\n",
            "54/54 [==============================] - 22s 408ms/step - loss: 0.0626 - accuracy: 0.9797 - val_loss: 0.0638 - val_accuracy: 0.9675\n"
          ]
        }
      ],
      "source": [
        "training_history = cnn.fit(x=training_set,validation_data=validation_set,epochs=10)"
      ]
    },
    {
      "cell_type": "markdown",
      "metadata": {
        "id": "7oAFQs40iCCq"
      },
      "source": [
        "**Evaluation of model**"
      ]
    },
    {
      "cell_type": "code",
      "execution_count": 37,
      "metadata": {
        "colab": {
          "base_uri": "https://localhost:8080/"
        },
        "id": "eWD9SgkGe2zq",
        "outputId": "63089c3a-f5e6-4c0a-dc7d-9f872c3b3700"
      },
      "outputs": [
        {
          "name": "stdout",
          "output_type": "stream",
          "text": [
            "54/54 [==============================] - 4s 65ms/step - loss: 0.0175 - accuracy: 0.9965\n",
            "Training accuracy: 0.9965136647224426\n"
          ]
        }
      ],
      "source": [
        "#Training set Accuracy\n",
        "train_loss, train_acc = cnn.evaluate(training_set)\n",
        "print('Training accuracy:', train_acc)"
      ]
    },
    {
      "cell_type": "code",
      "execution_count": 38,
      "metadata": {
        "colab": {
          "base_uri": "https://localhost:8080/"
        },
        "id": "EZ1-2_1He2xW",
        "outputId": "5ee973f4-f46b-4928-a81b-dd31052d7c57"
      },
      "outputs": [
        {
          "name": "stdout",
          "output_type": "stream",
          "text": [
            "14/14 [==============================] - 1s 63ms/step - loss: 0.0638 - accuracy: 0.9675\n",
            "Validation accuracy: 0.9675173759460449\n"
          ]
        }
      ],
      "source": [
        "#Validation set Accuracy\n",
        "val_loss, val_acc = cnn.evaluate(validation_set)\n",
        "print('Validation accuracy:', val_acc)"
      ]
    },
    {
      "cell_type": "code",
      "execution_count": 39,
      "metadata": {
        "id": "Zk3c1qAze2vW"
      },
      "outputs": [],
      "source": [
        "\n",
        "cnn.save('trained_plant_disease_model.keras')"
      ]
    },
    {
      "cell_type": "code",
      "execution_count": 40,
      "metadata": {
        "colab": {
          "base_uri": "https://localhost:8080/"
        },
        "id": "kztv08cBe2tQ",
        "outputId": "413d9b1a-f274-4811-80ee-089dc6940523"
      },
      "outputs": [
        {
          "data": {
            "text/plain": [
              "{'loss': [0.9107972383499146,\n",
              "  0.5805724859237671,\n",
              "  0.3932163119316101,\n",
              "  0.27684125304222107,\n",
              "  0.17479704320430756,\n",
              "  0.1583523452281952,\n",
              "  0.1036287471652031,\n",
              "  0.06008297950029373,\n",
              "  0.08432544022798538,\n",
              "  0.06255915015935898],\n",
              " 'accuracy': [0.5276002287864685,\n",
              "  0.7652527689933777,\n",
              "  0.8378849625587463,\n",
              "  0.8907611966133118,\n",
              "  0.9302731156349182,\n",
              "  0.9436374306678772,\n",
              "  0.9604880809783936,\n",
              "  0.9773387312889099,\n",
              "  0.9686229228973389,\n",
              "  0.9796630144119263],\n",
              " 'val_loss': [0.7219423651695251,\n",
              "  0.5150202512741089,\n",
              "  0.29441991448402405,\n",
              "  0.20540247857570648,\n",
              "  0.25667160749435425,\n",
              "  0.1222604364156723,\n",
              "  0.11861566454172134,\n",
              "  0.09257760643959045,\n",
              "  0.10344234853982925,\n",
              "  0.06377621740102768],\n",
              " 'val_accuracy': [0.7285382747650146,\n",
              "  0.7563804984092712,\n",
              "  0.8584686517715454,\n",
              "  0.9164733290672302,\n",
              "  0.9002320170402527,\n",
              "  0.953596293926239,\n",
              "  0.953596293926239,\n",
              "  0.9651972055435181,\n",
              "  0.9559164643287659,\n",
              "  0.9675173759460449]}"
            ]
          },
          "execution_count": 40,
          "metadata": {},
          "output_type": "execute_result"
        }
      ],
      "source": [
        "training_history.history #Return Dictionary of history"
      ]
    },
    {
      "cell_type": "code",
      "execution_count": 41,
      "metadata": {
        "id": "P3iHkmkEe2rK"
      },
      "outputs": [],
      "source": [
        "\n",
        "#Recording History in json\n",
        "import json\n",
        "with open('training_hist.json','w') as f:\n",
        "  json.dump(training_history.history,f)"
      ]
    },
    {
      "cell_type": "code",
      "execution_count": 42,
      "metadata": {
        "colab": {
          "base_uri": "https://localhost:8080/"
        },
        "id": "CxVwEz4ne2pN",
        "outputId": "fa32f41f-9739-4c06-c606-eb6f66f023f9"
      },
      "outputs": [
        {
          "name": "stdout",
          "output_type": "stream",
          "text": [
            "dict_keys(['loss', 'accuracy', 'val_loss', 'val_accuracy'])\n"
          ]
        }
      ],
      "source": [
        "\n",
        "print(training_history.history.keys())"
      ]
    },
    {
      "cell_type": "markdown",
      "metadata": {
        "id": "H2wUJed9iNrN"
      },
      "source": [
        "**Accuracy visualisation**"
      ]
    },
    {
      "cell_type": "code",
      "execution_count": 43,
      "metadata": {
        "colab": {
          "base_uri": "https://localhost:8080/",
          "height": 472
        },
        "id": "3vyOVOGAe2nq",
        "outputId": "ba376c9f-f4ed-4307-8759-3c0f2661a902"
      },
      "outputs": [
        {
          "data": {
            "image/png": "[encoded data removed]",
            "text/plain": [
              "<Figure size 640x480 with 1 Axes>"
            ]
          },
          "metadata": {},
          "output_type": "display_data"
        }
      ],
      "source": [
        "epochs = [i for i in range(1,11)]\n",
        "plt.plot(epochs,training_history.history['accuracy'],color='red',label='Training Accuracy')\n",
        "plt.plot(epochs,training_history.history['val_accuracy'],color='blue',label='Validation Accuracy')\n",
        "plt.xlabel('No. of Epochs')\n",
        "plt.title('Visualization of Accuracy Result')\n",
        "plt.legend()\n",
        "plt.show()"
      ]
    },
    {
      "cell_type": "code",
      "execution_count": 57,
      "metadata": {
        "id": "0nJ2W_kge2lZ"
      },
      "outputs": [],
      "source": [
        "class_name = validation_set.class_names"
      ]
    },
    {
      "cell_type": "code",
      "execution_count": 58,
      "metadata": {
        "colab": {
          "base_uri": "https://localhost:8080/"
        },
        "id": "bFOLPt_Rp0hV",
        "outputId": "3587a7a6-a7c3-49d1-9026-00adc60ab886"
      },
      "outputs": [
        {
          "data": {
            "text/plain": [
              "['Potato___Early_blight', 'Potato___Late_blight', 'Potato___healthy']"
            ]
          },
          "execution_count": 58,
          "metadata": {},
          "output_type": "execute_result"
        }
      ],
      "source": [
        "class_name\n"
      ]
    },
    {
      "cell_type": "code",
      "execution_count": 45,
      "metadata": {
        "colab": {
          "base_uri": "https://localhost:8080/"
        },
        "id": "jaM-YmW2e2jU",
        "outputId": "b6a4b9d3-f7ff-424b-f727-a0bcbba8a779"
      },
      "outputs": [
        {
          "name": "stdout",
          "output_type": "stream",
          "text": [
            "Found 431 files belonging to 3 classes.\n"
          ]
        }
      ],
      "source": [
        "test_set = tf.keras.utils.image_dataset_from_directory(\n",
        "    'valid',\n",
        "    labels=\"inferred\",\n",
        "    label_mode=\"categorical\",\n",
        "    class_names=None,\n",
        "    color_mode=\"rgb\",\n",
        "    batch_size=1,\n",
        "    image_size=(128, 128),\n",
        "    shuffle=False,\n",
        "    seed=None,\n",
        "    validation_split=None,\n",
        "    subset=None,\n",
        "    interpolation=\"bilinear\",\n",
        "    follow_links=False,\n",
        "    crop_to_aspect_ratio=False\n",
        ")"
      ]
    },
    {
      "cell_type": "code",
      "execution_count": 46,
      "metadata": {
        "colab": {
          "base_uri": "https://localhost:8080/"
        },
        "id": "BfwprZVue2hW",
        "outputId": "ea8dac31-4c3c-41fc-a0e3-3310a0231366"
      },
      "outputs": [
        {
          "name": "stdout",
          "output_type": "stream",
          "text": [
            "431/431 [==============================] - 5s 11ms/step\n"
          ]
        }
      ],
      "source": [
        "y_pred = cnn.predict(test_set)\n",
        "predicted_categories = tf.argmax(y_pred, axis=1)"
      ]
    },
    {
      "cell_type": "code",
      "execution_count": 47,
      "metadata": {
        "id": "wZnuCfk3e2fR"
      },
      "outputs": [],
      "source": [
        "true_categories = tf.concat([y for x, y in test_set], axis=0)\n",
        "Y_true = tf.argmax(true_categories, axis=1)"
      ]
    },
    {
      "cell_type": "code",
      "execution_count": 48,
      "metadata": {
        "colab": {
          "base_uri": "https://localhost:8080/"
        },
        "id": "HkLhXIEse2dQ",
        "outputId": "567c45bb-3bb8-4451-d773-14929b11ed5b"
      },
      "outputs": [
        {
          "data": {
            "text/plain": [
              "<tf.Tensor: shape=(431,), dtype=int64, numpy=\n",
              "array([0, 0, 0, 0, 0, 0, 0, 0, 0, 0, 0, 0, 0, 0, 0, 0, 0, 0, 0, 0, 0, 0,\n",
              "       0, 0, 0, 0, 0, 0, 0, 0, 0, 0, 0, 0, 0, 0, 0, 0, 0, 0, 0, 0, 0, 0,\n",
              "       0, 0, 0, 0, 0, 0, 0, 0, 0, 0, 0, 0, 0, 0, 0, 0, 0, 0, 0, 0, 0, 0,\n",
              "       0, 0, 0, 0, 0, 0, 0, 0, 0, 0, 0, 0, 0, 0, 0, 0, 0, 0, 0, 0, 0, 0,\n",
              "       0, 0, 0, 0, 0, 0, 0, 0, 0, 0, 0, 0, 0, 0, 0, 0, 0, 0, 0, 0, 0, 0,\n",
              "       0, 0, 0, 0, 0, 0, 0, 0, 0, 0, 0, 0, 0, 0, 0, 0, 0, 0, 0, 0, 0, 0,\n",
              "       0, 0, 0, 0, 0, 0, 0, 0, 0, 0, 0, 0, 0, 0, 0, 0, 0, 0, 0, 0, 0, 0,\n",
              "       0, 0, 0, 0, 0, 0, 0, 0, 0, 0, 0, 0, 0, 0, 0, 0, 0, 0, 0, 0, 0, 0,\n",
              "       0, 0, 0, 0, 0, 0, 0, 0, 0, 0, 0, 0, 0, 0, 0, 0, 0, 0, 0, 0, 0, 0,\n",
              "       0, 0, 1, 1, 1, 1, 1, 1, 1, 1, 1, 1, 1, 1, 1, 1, 1, 1, 1, 1, 1, 1,\n",
              "       1, 1, 1, 1, 1, 1, 1, 1, 1, 1, 1, 1, 1, 1, 1, 1, 1, 1, 1, 1, 1, 1,\n",
              "       1, 1, 1, 1, 1, 1, 1, 1, 1, 1, 1, 1, 1, 1, 1, 1, 1, 1, 1, 1, 1, 1,\n",
              "       1, 1, 1, 1, 1, 1, 1, 1, 1, 1, 1, 1, 1, 1, 1, 1, 1, 1, 1, 1, 1, 1,\n",
              "       1, 1, 1, 1, 1, 1, 1, 1, 1, 1, 1, 1, 1, 1, 1, 1, 1, 1, 1, 1, 1, 1,\n",
              "       1, 1, 1, 1, 1, 1, 1, 1, 1, 1, 1, 1, 1, 1, 1, 1, 1, 1, 1, 1, 1, 1,\n",
              "       1, 1, 1, 1, 1, 1, 1, 1, 1, 1, 1, 1, 1, 1, 1, 1, 1, 1, 1, 1, 1, 1,\n",
              "       1, 1, 1, 1, 1, 1, 1, 1, 1, 1, 1, 1, 1, 1, 1, 1, 1, 1, 1, 1, 1, 1,\n",
              "       1, 1, 1, 1, 1, 1, 1, 1, 1, 1, 1, 1, 1, 1, 1, 1, 1, 1, 1, 1, 1, 1,\n",
              "       1, 1, 1, 1, 2, 2, 2, 2, 2, 2, 2, 2, 2, 2, 2, 2, 2, 2, 2, 2, 2, 2,\n",
              "       2, 2, 2, 2, 2, 2, 2, 2, 2, 2, 2, 2, 2])>"
            ]
          },
          "execution_count": 48,
          "metadata": {},
          "output_type": "execute_result"
        }
      ],
      "source": [
        "\n",
        "Y_true"
      ]
    },
    {
      "cell_type": "code",
      "execution_count": 49,
      "metadata": {
        "colab": {
          "base_uri": "https://localhost:8080/"
        },
        "id": "j8V57Amhe2bN",
        "outputId": "6783bc6f-07ec-46c3-c658-f0f99e0a0c25"
      },
      "outputs": [
        {
          "data": {
            "text/plain": [
              "<tf.Tensor: shape=(431,), dtype=int64, numpy=\n",
              "array([0, 0, 0, 0, 0, 0, 0, 0, 1, 0, 0, 0, 0, 0, 0, 0, 0, 0, 0, 0, 0, 0,\n",
              "       0, 0, 0, 0, 0, 0, 0, 0, 0, 0, 0, 0, 0, 0, 0, 0, 0, 0, 0, 0, 0, 0,\n",
              "       0, 0, 0, 0, 0, 0, 0, 0, 0, 0, 0, 0, 0, 0, 0, 0, 0, 1, 0, 0, 0, 0,\n",
              "       0, 0, 0, 0, 0, 0, 0, 0, 0, 0, 0, 0, 0, 0, 0, 0, 0, 0, 0, 0, 0, 0,\n",
              "       0, 0, 0, 0, 0, 0, 0, 0, 0, 0, 0, 0, 0, 0, 0, 0, 0, 1, 0, 0, 0, 0,\n",
              "       0, 0, 0, 0, 0, 0, 0, 0, 0, 0, 0, 0, 0, 0, 0, 0, 0, 0, 0, 0, 0, 0,\n",
              "       0, 0, 0, 0, 0, 0, 0, 0, 0, 0, 0, 0, 0, 0, 0, 0, 0, 0, 0, 0, 0, 0,\n",
              "       0, 0, 0, 1, 0, 0, 0, 0, 0, 0, 0, 0, 0, 0, 0, 0, 0, 0, 0, 0, 0, 0,\n",
              "       0, 0, 0, 0, 0, 0, 0, 0, 0, 0, 0, 0, 0, 0, 0, 0, 0, 0, 0, 0, 0, 0,\n",
              "       0, 0, 1, 1, 1, 1, 1, 1, 1, 2, 1, 1, 1, 1, 1, 1, 1, 1, 1, 1, 1, 1,\n",
              "       1, 1, 1, 1, 1, 1, 1, 1, 1, 1, 1, 1, 0, 1, 1, 1, 1, 1, 1, 1, 1, 0,\n",
              "       1, 1, 1, 1, 1, 1, 1, 1, 1, 1, 1, 1, 1, 1, 1, 1, 1, 1, 1, 1, 1, 1,\n",
              "       1, 1, 1, 1, 1, 1, 1, 1, 2, 1, 1, 1, 1, 1, 1, 1, 1, 1, 1, 1, 1, 1,\n",
              "       1, 1, 1, 1, 1, 1, 1, 1, 1, 1, 1, 1, 1, 1, 1, 1, 1, 1, 1, 1, 1, 1,\n",
              "       1, 1, 1, 1, 1, 1, 1, 1, 1, 1, 1, 1, 1, 1, 1, 1, 1, 1, 1, 1, 1, 1,\n",
              "       1, 1, 1, 1, 1, 1, 1, 1, 1, 1, 1, 1, 1, 1, 1, 1, 0, 1, 1, 1, 1, 1,\n",
              "       1, 1, 1, 1, 1, 1, 1, 1, 1, 1, 1, 1, 1, 1, 1, 1, 1, 1, 1, 1, 1, 1,\n",
              "       1, 1, 1, 1, 1, 1, 1, 1, 1, 1, 2, 1, 1, 1, 1, 1, 1, 1, 1, 1, 1, 1,\n",
              "       1, 1, 1, 1, 1, 2, 2, 1, 2, 2, 2, 2, 1, 2, 2, 2, 2, 2, 2, 2, 2, 2,\n",
              "       2, 2, 2, 2, 1, 2, 2, 2, 2, 2, 2, 2, 2])>"
            ]
          },
          "execution_count": 49,
          "metadata": {},
          "output_type": "execute_result"
        }
      ],
      "source": [
        "predicted_categories"
      ]
    },
    {
      "cell_type": "code",
      "execution_count": 50,
      "metadata": {
        "id": "xldmkw2ViiT7"
      },
      "outputs": [],
      "source": [
        "from sklearn.metrics import confusion_matrix,classification_report\n",
        "cm = confusion_matrix(Y_true,predicted_categories)"
      ]
    },
    {
      "cell_type": "code",
      "execution_count": 51,
      "metadata": {
        "colab": {
          "base_uri": "https://localhost:8080/"
        },
        "id": "J3a8SCWniiQd",
        "outputId": "ea3773fd-964f-466b-d964-253d9e570b7d"
      },
      "outputs": [
        {
          "name": "stdout",
          "output_type": "stream",
          "text": [
            "                       precision    recall  f1-score   support\n",
            "\n",
            "Potato___Early_blight       0.98      0.98      0.98       200\n",
            " Potato___Late_blight       0.96      0.97      0.97       200\n",
            "     Potato___healthy       0.90      0.87      0.89        31\n",
            "\n",
            "             accuracy                           0.97       431\n",
            "            macro avg       0.95      0.94      0.94       431\n",
            "         weighted avg       0.97      0.97      0.97       431\n",
            "\n"
          ]
        }
      ],
      "source": [
        "# Precision Recall Fscore\n",
        "print(classification_report(Y_true,predicted_categories,target_names=class_name))"
      ]
    },
    {
      "cell_type": "code",
      "execution_count": 56,
      "metadata": {
        "colab": {
          "base_uri": "https://localhost:8080/",
          "height": 484
        },
        "id": "wSho5RqNiiOk",
        "outputId": "be9945a1-c91f-4eb1-afa0-235e216cea8a"
      },
      "outputs": [
        {
          "data": {
            "image/png": "[encoded data removed]",
            "text/plain": [
              "<Figure size 500x500 with 2 Axes>"
            ]
          },
          "metadata": {},
          "output_type": "display_data"
        }
      ],
      "source": [
        "#plotting confusion matrix\n",
        "plt.figure(figsize=(5, 5))\n",
        "sns.heatmap(cm,annot=True,annot_kws={\"size\": 10})\n",
        "\n",
        "plt.xlabel('Predicted Class',fontsize = 20)\n",
        "plt.ylabel('Actual Class',fontsize = 20)\n",
        "plt.title('Plant Disease Prediction Confusion Matrix',fontsize = 25)\n",
        "plt.show()\n"
      ]
    },
    {
      "cell_type": "code",
      "execution_count": 63,
      "metadata": {
        "id": "I91s-zx1y4dU"
      },
      "outputs": [],
      "source": [
        "import numpy as np"
      ]
    },
    {
      "cell_type": "code",
      "execution_count": 64,
      "metadata": {
        "id": "8QcMD8vJy7Jy"
      },
      "outputs": [],
      "source": [
        "image_path='/content/PlantVillage/Potato___Late_blight/0085ef03-aec3-431a-99a1-de286e10c0cf___RS_LB 2949.JPG'"
      ]
    },
    {
      "cell_type": "code",
      "execution_count": 65,
      "metadata": {
        "colab": {
          "base_uri": "https://localhost:8080/"
        },
        "id": "S4FUAaHkiiMz",
        "outputId": "a6dd0568-c78c-4011-f00a-723a3562e638"
      },
      "outputs": [
        {
          "name": "stdout",
          "output_type": "stream",
          "text": [
            "(1, 128, 128, 3)\n"
          ]
        }
      ],
      "source": [
        "#testing\n",
        "\n",
        "image=tf.keras.preprocessing.image.load_img(image_path,target_size=(128,128))\n",
        "input_arr=tf.keras.preprocessing.image.img_to_array(image)\n",
        "input_arr=np.array([input_arr])\n",
        "print(input_arr.shape)\n"
      ]
    },
    {
      "cell_type": "code",
      "execution_count": 69,
      "metadata": {
        "colab": {
          "base_uri": "https://localhost:8080/"
        },
        "id": "yig8kFZ-iiK2",
        "outputId": "e39545e3-9fb3-431d-b688-69b1e33b8a40"
      },
      "outputs": [
        {
          "name": "stdout",
          "output_type": "stream",
          "text": [
            "1/1 [==============================] - 0s 146ms/step\n",
            "[[3.0290238e-03 9.9680114e-01 1.6980949e-04]]\n"
          ]
        }
      ],
      "source": [
        "predictions=model.predict(input_arr)\n",
        "print(predictions)"
      ]
    },
    {
      "cell_type": "code",
      "execution_count": 70,
      "metadata": {
        "colab": {
          "base_uri": "https://localhost:8080/"
        },
        "id": "5i8N3k7OiiJG",
        "outputId": "d16e2210-9e2c-447d-bb88-b1a7516a4674"
      },
      "outputs": [
        {
          "name": "stdout",
          "output_type": "stream",
          "text": [
            "Potato___Late_blight\n"
          ]
        }
      ],
      "source": [
        "class_names=['Potato___Early_blight', 'Potato___Late_blight', 'Potato___healthy']\n",
        "predicted_class_index = np.argmax(predictions)\n",
        "predicted_class = class_names[predicted_class_index]\n",
        "print(predicted_class)"
      ]
    },
    {
      "cell_type": "code",
      "execution_count": 68,
      "metadata": {
        "id": "r1rahNF4iiHT"
      },
      "outputs": [],
      "source": [
        "model=tf.keras.models.load_model('/content/trained_plant_disease_model.keras')"
      ]
    },
    {
      "cell_type": "code",
      "execution_count": null,
      "metadata": {
        "id": "_Cr5sHpciiEH"
      },
      "outputs": [],
      "source": []
    },
    {
      "cell_type": "code",
      "execution_count": null,
      "metadata": {
        "id": "OsnwqvmbiiCR"
      },
      "outputs": [],
      "source": []
    },
    {
      "cell_type": "code",
      "execution_count": null,
      "metadata": {
        "id": "GkxuQASliiAj"
      },
      "outputs": [],
      "source": []
    },
    {
      "cell_type": "code",
      "execution_count": null,
      "metadata": {
        "id": "4qcYhobqih-M"
      },
      "outputs": [],
      "source": []
    },
    {
      "cell_type": "code",
      "execution_count": null,
      "metadata": {
        "id": "X9eW4Hcrih8P"
      },
      "outputs": [],
      "source": []
    },
    {
      "cell_type": "code",
      "execution_count": null,
      "metadata": {
        "id": "gXE7rGFfih6S"
      },
      "outputs": [],
      "source": []
    },
    {
      "cell_type": "code",
      "execution_count": null,
      "metadata": {
        "id": "elD5UN3Xih4V"
      },
      "outputs": [],
      "source": []
    },
    {
      "cell_type": "code",
      "execution_count": null,
      "metadata": {
        "id": "cobp-gCxih2X"
      },
      "outputs": [],
      "source": []
    },
    {
      "cell_type": "code",
      "execution_count": null,
      "metadata": {
        "id": "m-RgHXm1ih0W"
      },
      "outputs": [],
      "source": []
    },
    {
      "cell_type": "code",
      "execution_count": null,
      "metadata": {
        "id": "ykQ9Htcvihyf"
      },
      "outputs": [],
      "source": []
    },
    {
      "cell_type": "code",
      "execution_count": null,
      "metadata": {
        "id": "qyA2k2BTihwY"
      },
      "outputs": [],
      "source": []
    },
    {
      "cell_type": "code",
      "execution_count": null,
      "metadata": {
        "id": "OdUCCcQUihuT"
      },
      "outputs": [],
      "source": []
    }
  ],
  "metadata": {
    "accelerator": "TPU",
    "colab": {
      "gpuType": "V28",
      "provenance": []
    },
    "kernelspec": {
      "display_name": "Python 3",
      "name": "python3"
    },
    "language_info": {
      "name": "python"
    }
  },
  "nbformat": 4,
  "nbformat_minor": 0
}
